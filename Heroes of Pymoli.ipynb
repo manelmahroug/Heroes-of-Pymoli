{
 "cells": [
  {
   "cell_type": "code",
   "execution_count": 1,
   "metadata": {
    "collapsed": true
   },
   "outputs": [],
   "source": [
    "import os\n",
    "import pandas as pd\n",
    "import numpy as np"
   ]
  },
  {
   "cell_type": "code",
   "execution_count": 3,
   "metadata": {},
   "outputs": [
    {
     "data": {
      "text/html": [
       "<div>\n",
       "<style>\n",
       "    .dataframe thead tr:only-child th {\n",
       "        text-align: right;\n",
       "    }\n",
       "\n",
       "    .dataframe thead th {\n",
       "        text-align: left;\n",
       "    }\n",
       "\n",
       "    .dataframe tbody tr th {\n",
       "        vertical-align: top;\n",
       "    }\n",
       "</style>\n",
       "<table border=\"1\" class=\"dataframe\">\n",
       "  <thead>\n",
       "    <tr style=\"text-align: right;\">\n",
       "      <th></th>\n",
       "      <th>Age</th>\n",
       "      <th>Gender</th>\n",
       "      <th>Item ID</th>\n",
       "      <th>Item Name</th>\n",
       "      <th>Price</th>\n",
       "      <th>SN</th>\n",
       "    </tr>\n",
       "  </thead>\n",
       "  <tbody>\n",
       "    <tr>\n",
       "      <th>0</th>\n",
       "      <td>38</td>\n",
       "      <td>Male</td>\n",
       "      <td>165</td>\n",
       "      <td>Bone Crushing Silver Skewer</td>\n",
       "      <td>3.37</td>\n",
       "      <td>Aelalis34</td>\n",
       "    </tr>\n",
       "    <tr>\n",
       "      <th>1</th>\n",
       "      <td>21</td>\n",
       "      <td>Male</td>\n",
       "      <td>119</td>\n",
       "      <td>Stormbringer, Dark Blade of Ending Misery</td>\n",
       "      <td>2.32</td>\n",
       "      <td>Eolo46</td>\n",
       "    </tr>\n",
       "    <tr>\n",
       "      <th>2</th>\n",
       "      <td>34</td>\n",
       "      <td>Male</td>\n",
       "      <td>174</td>\n",
       "      <td>Primitive Blade</td>\n",
       "      <td>2.46</td>\n",
       "      <td>Assastnya25</td>\n",
       "    </tr>\n",
       "    <tr>\n",
       "      <th>3</th>\n",
       "      <td>21</td>\n",
       "      <td>Male</td>\n",
       "      <td>92</td>\n",
       "      <td>Final Critic</td>\n",
       "      <td>1.36</td>\n",
       "      <td>Pheusrical25</td>\n",
       "    </tr>\n",
       "    <tr>\n",
       "      <th>4</th>\n",
       "      <td>23</td>\n",
       "      <td>Male</td>\n",
       "      <td>63</td>\n",
       "      <td>Stormfury Mace</td>\n",
       "      <td>1.27</td>\n",
       "      <td>Aela59</td>\n",
       "    </tr>\n",
       "  </tbody>\n",
       "</table>\n",
       "</div>"
      ],
      "text/plain": [
       "   Age Gender  Item ID                                  Item Name  Price  \\\n",
       "0   38   Male      165                Bone Crushing Silver Skewer   3.37   \n",
       "1   21   Male      119  Stormbringer, Dark Blade of Ending Misery   2.32   \n",
       "2   34   Male      174                            Primitive Blade   2.46   \n",
       "3   21   Male       92                               Final Critic   1.36   \n",
       "4   23   Male       63                             Stormfury Mace   1.27   \n",
       "\n",
       "             SN  \n",
       "0     Aelalis34  \n",
       "1        Eolo46  \n",
       "2   Assastnya25  \n",
       "3  Pheusrical25  \n",
       "4        Aela59  "
      ]
     },
     "execution_count": 3,
     "metadata": {},
     "output_type": "execute_result"
    }
   ],
   "source": [
    "#store file path in a variable  \n",
    "json_path = os.path.join (\"Resources\",\"purchase_data.json\") \n",
    "\n",
    "#Import the purchase data json file as a DataFrame\n",
    "\n",
    "purchase_data = pd.read_json(json_path)\n",
    "purchase_data.head()"
   ]
  },
  {
   "cell_type": "code",
   "execution_count": 49,
   "metadata": {},
   "outputs": [
    {
     "data": {
      "text/html": [
       "<div>\n",
       "<style>\n",
       "    .dataframe thead tr:only-child th {\n",
       "        text-align: right;\n",
       "    }\n",
       "\n",
       "    .dataframe thead th {\n",
       "        text-align: left;\n",
       "    }\n",
       "\n",
       "    .dataframe tbody tr th {\n",
       "        vertical-align: top;\n",
       "    }\n",
       "</style>\n",
       "<table border=\"1\" class=\"dataframe\">\n",
       "  <thead>\n",
       "    <tr style=\"text-align: right;\">\n",
       "      <th></th>\n",
       "    </tr>\n",
       "    <tr>\n",
       "      <th>Total Players</th>\n",
       "    </tr>\n",
       "  </thead>\n",
       "  <tbody>\n",
       "    <tr>\n",
       "      <th>573</th>\n",
       "    </tr>\n",
       "  </tbody>\n",
       "</table>\n",
       "</div>"
      ],
      "text/plain": [
       "Empty DataFrame\n",
       "Columns: []\n",
       "Index: [573]"
      ]
     },
     "execution_count": 49,
     "metadata": {},
     "output_type": "execute_result"
    }
   ],
   "source": [
    "#Player Count- Using the length of the unique screen names\n",
    "\n",
    "player_count = len(purchase_data['SN'].unique())\n",
    "\n",
    "#Convert the player count series into a dataframe\n",
    "\n",
    "player_count_df = pd.DataFrame([{'Total Players': player_count}])\n",
    "\n",
    "#resetting the index to total players\n",
    " \n",
    "Total_players = player_count_df.set_index('Total Players')\n",
    "Total_players"
   ]
  },
  {
   "cell_type": "code",
   "execution_count": 47,
   "metadata": {},
   "outputs": [
    {
     "data": {
      "text/html": [
       "<style  type=\"text/css\" >\n",
       "</style>  \n",
       "<table id=\"T_394d82cc_1ca6_11e8_a102_9801a793d7db\" > \n",
       "<thead>    <tr> \n",
       "        <th class=\"blank level0\" ></th> \n",
       "        <th class=\"col_heading level0 col0\" >Average Purchase Price</th> \n",
       "        <th class=\"col_heading level0 col1\" >Number of Unique Items</th> \n",
       "        <th class=\"col_heading level0 col2\" >Total Number of Purchases</th> \n",
       "        <th class=\"col_heading level0 col3\" >Total Revenue</th> \n",
       "    </tr></thead> \n",
       "<tbody>    <tr> \n",
       "        <th id=\"T_394d82cc_1ca6_11e8_a102_9801a793d7dblevel0_row0\" class=\"row_heading level0 row0\" >0</th> \n",
       "        <td id=\"T_394d82cc_1ca6_11e8_a102_9801a793d7dbrow0_col0\" class=\"data row0 col0\" >$2.93</td> \n",
       "        <td id=\"T_394d82cc_1ca6_11e8_a102_9801a793d7dbrow0_col1\" class=\"data row0 col1\" >183</td> \n",
       "        <td id=\"T_394d82cc_1ca6_11e8_a102_9801a793d7dbrow0_col2\" class=\"data row0 col2\" >780</td> \n",
       "        <td id=\"T_394d82cc_1ca6_11e8_a102_9801a793d7dbrow0_col3\" class=\"data row0 col3\" >$2,286.33</td> \n",
       "    </tr></tbody> \n",
       "</table> "
      ],
      "text/plain": [
       "<pandas.io.formats.style.Styler at 0x1139b5470>"
      ]
     },
     "execution_count": 47,
     "metadata": {},
     "output_type": "execute_result"
    }
   ],
   "source": [
    "# Purchasing analysis\n",
    "\n",
    "# Number of Unique Items\n",
    "unique_items = len(purchase_data[\"Item ID\"].unique())\n",
    "unique_items \n",
    "\n",
    "# Average Purchase Price\n",
    "ave_price = round (purchase_data[\"Price\"].mean(), 2)\n",
    "ave_price\n",
    "\n",
    "# Total Number of Purchases\n",
    "tot_pur = purchase_data[\"Price\"].count()\n",
    "tot_pur\n",
    "\n",
    "# Total Revenue\n",
    "tot_rev = round (purchase_data[\"Price\"].sum(),2)\n",
    "tot_rev\n",
    "\n",
    "total_analysis_df = pd.DataFrame ({ 'Number of Unique Items': [unique_items],\n",
    "                                    'Average Purchase Price': [ave_price],\n",
    "                                    'Total Number of Purchases': [tot_pur],\n",
    "                                    'Total Revenue': [tot_rev]\n",
    "                                   })\n",
    "\n",
    " \n",
    " \n",
    "total_analysis_df.style.format({'Average Purchase Price': '${:.2f}', 'Total Revenue': '${:,.2f}'})\n",
    "\n"
   ]
  },
  {
   "cell_type": "code",
   "execution_count": 104,
   "metadata": {},
   "outputs": [
    {
     "data": {
      "text/html": [
       "<style  type=\"text/css\" >\n",
       "</style>  \n",
       "<table id=\"T_dc02a3f4_1cca_11e8_bcfb_9801a793d7db\" > \n",
       "<thead>    <tr> \n",
       "        <th class=\"blank level0\" ></th> \n",
       "        <th class=\"col_heading level0 col0\" >Number of players</th> \n",
       "        <th class=\"col_heading level0 col1\" >Percentage of players</th> \n",
       "    </tr>    <tr> \n",
       "        <th class=\"index_name level0\" >Gender</th> \n",
       "        <th class=\"blank\" ></th> \n",
       "        <th class=\"blank\" ></th> \n",
       "    </tr></thead> \n",
       "<tbody>    <tr> \n",
       "        <th id=\"T_dc02a3f4_1cca_11e8_bcfb_9801a793d7dblevel0_row0\" class=\"row_heading level0 row0\" >Male</th> \n",
       "        <td id=\"T_dc02a3f4_1cca_11e8_bcfb_9801a793d7dbrow0_col0\" class=\"data row0 col0\" >465</td> \n",
       "        <td id=\"T_dc02a3f4_1cca_11e8_bcfb_9801a793d7dbrow0_col1\" class=\"data row0 col1\" >81.1518</td> \n",
       "    </tr>    <tr> \n",
       "        <th id=\"T_dc02a3f4_1cca_11e8_bcfb_9801a793d7dblevel0_row1\" class=\"row_heading level0 row1\" >Female</th> \n",
       "        <td id=\"T_dc02a3f4_1cca_11e8_bcfb_9801a793d7dbrow1_col0\" class=\"data row1 col0\" >100</td> \n",
       "        <td id=\"T_dc02a3f4_1cca_11e8_bcfb_9801a793d7dbrow1_col1\" class=\"data row1 col1\" >17.452</td> \n",
       "    </tr>    <tr> \n",
       "        <th id=\"T_dc02a3f4_1cca_11e8_bcfb_9801a793d7dblevel0_row2\" class=\"row_heading level0 row2\" >Non-disclosed</th> \n",
       "        <td id=\"T_dc02a3f4_1cca_11e8_bcfb_9801a793d7dbrow2_col0\" class=\"data row2 col0\" >8</td> \n",
       "        <td id=\"T_dc02a3f4_1cca_11e8_bcfb_9801a793d7dbrow2_col1\" class=\"data row2 col1\" >1.39616</td> \n",
       "    </tr></tbody> \n",
       "</table> "
      ],
      "text/plain": [
       "<pandas.io.formats.style.Styler at 0x113bcf4e0>"
      ]
     },
     "execution_count": 104,
     "metadata": {},
     "output_type": "execute_result"
    }
   ],
   "source": [
    "#Gender Demographics\n",
    "\n",
    "#Get the total number of unique players\n",
    "totalcount = purchase_data[\"SN\"].nunique()\n",
    "\n",
    "#Number of male players\n",
    "malecount = purchase_data[purchase_data[\"Gender\"] == \"Male\"][\"SN\"].nunique()\n",
    "\n",
    "#Number of female players\n",
    "femalecount = purchase_data[purchase_data[\"Gender\"] == \"Female\"][\"SN\"].nunique()\n",
    "\n",
    "#Number of non_disclosed players\n",
    "non_disclosed = totalcount - (malecount + femalecount)\n",
    "\n",
    "#Calculating percentages\n",
    "perc_male = (malecount/totalcount)*100\n",
    "perc_female = (femalecount/totalcount)*100\n",
    "perc_non_disclosed = (non_disclosed/totalcount)*100\n",
    "\n",
    "#Creating a data frame\n",
    "\n",
    "gender_demo_df = pd.DataFrame ({\"Gender\":[\"Male\",\"Female\",\"Non-disclosed\"],\n",
    "                                           \"Number of players\":[malecount, femalecount, non_disclosed],\n",
    "                                           \"Percentage of players\":[perc_male, perc_female,perc_non_disclosed]})\n",
    "                                           \n",
    "gender_demo_df\n",
    "\n",
    "reset_index = gender_demo_df.set_index(\"Gender\")\n",
    "reset_index\n",
    "\n",
    "reset_index.style.format({\"Percentage of Players\": \"{:.2f}%\"})\n",
    " "
   ]
  },
  {
   "cell_type": "code",
   "execution_count": 108,
   "metadata": {},
   "outputs": [
    {
     "data": {
      "text/html": [
       "<style  type=\"text/css\" >\n",
       "</style>  \n",
       "<table id=\"T_a587cff4_1ccd_11e8_bf21_9801a793d7db\" > \n",
       "<thead>    <tr> \n",
       "        <th class=\"blank level0\" ></th> \n",
       "        <th class=\"col_heading level0 col0\" >Purchase Count</th> \n",
       "        <th class=\"col_heading level0 col1\" >Average Purchase Price</th> \n",
       "        <th class=\"col_heading level0 col2\" >Total Purchase Value</th> \n",
       "        <th class=\"col_heading level0 col3\" >Normalized Totals</th> \n",
       "    </tr>    <tr> \n",
       "        <th class=\"index_name level0\" >Gender</th> \n",
       "        <th class=\"blank\" ></th> \n",
       "        <th class=\"blank\" ></th> \n",
       "        <th class=\"blank\" ></th> \n",
       "        <th class=\"blank\" ></th> \n",
       "    </tr></thead> \n",
       "<tbody>    <tr> \n",
       "        <th id=\"T_a587cff4_1ccd_11e8_bf21_9801a793d7dblevel0_row0\" class=\"row_heading level0 row0\" >Male</th> \n",
       "        <td id=\"T_a587cff4_1ccd_11e8_bf21_9801a793d7dbrow0_col0\" class=\"data row0 col0\" >633</td> \n",
       "        <td id=\"T_a587cff4_1ccd_11e8_bf21_9801a793d7dbrow0_col1\" class=\"data row0 col1\" >$2.95</td> \n",
       "        <td id=\"T_a587cff4_1ccd_11e8_bf21_9801a793d7dbrow0_col2\" class=\"data row0 col2\" >$1867.68</td> \n",
       "        <td id=\"T_a587cff4_1ccd_11e8_bf21_9801a793d7dbrow0_col3\" class=\"data row0 col3\" >$4.02</td> \n",
       "    </tr>    <tr> \n",
       "        <th id=\"T_a587cff4_1ccd_11e8_bf21_9801a793d7dblevel0_row1\" class=\"row_heading level0 row1\" >Female</th> \n",
       "        <td id=\"T_a587cff4_1ccd_11e8_bf21_9801a793d7dbrow1_col0\" class=\"data row1 col0\" >136</td> \n",
       "        <td id=\"T_a587cff4_1ccd_11e8_bf21_9801a793d7dbrow1_col1\" class=\"data row1 col1\" >$2.82</td> \n",
       "        <td id=\"T_a587cff4_1ccd_11e8_bf21_9801a793d7dbrow1_col2\" class=\"data row1 col2\" >$382.91</td> \n",
       "        <td id=\"T_a587cff4_1ccd_11e8_bf21_9801a793d7dbrow1_col3\" class=\"data row1 col3\" >$3.83</td> \n",
       "    </tr>    <tr> \n",
       "        <th id=\"T_a587cff4_1ccd_11e8_bf21_9801a793d7dblevel0_row2\" class=\"row_heading level0 row2\" >Non-Disclosed</th> \n",
       "        <td id=\"T_a587cff4_1ccd_11e8_bf21_9801a793d7dbrow2_col0\" class=\"data row2 col0\" >11</td> \n",
       "        <td id=\"T_a587cff4_1ccd_11e8_bf21_9801a793d7dbrow2_col1\" class=\"data row2 col1\" >$nan</td> \n",
       "        <td id=\"T_a587cff4_1ccd_11e8_bf21_9801a793d7dbrow2_col2\" class=\"data row2 col2\" >$0.00</td> \n",
       "        <td id=\"T_a587cff4_1ccd_11e8_bf21_9801a793d7dbrow2_col3\" class=\"data row2 col3\" >$0.00</td> \n",
       "    </tr></tbody> \n",
       "</table> "
      ],
      "text/plain": [
       "<pandas.io.formats.style.Styler at 0x113af3128>"
      ]
     },
     "execution_count": 108,
     "metadata": {},
     "output_type": "execute_result"
    }
   ],
   "source": [
    "male_purchase = purchase_data[purchase_data[\"Gender\"] == \"Male\"][\"Price\"].count()\n",
    "female_purchase = purchase_data[purchase_data[\"Gender\"] == \"Female\"][\"Price\"].count()\n",
    "other_purchase = total_purchases - (male_purchase + female_purchase)\n",
    "\n",
    "ave_price_male = purchase_data[purchase_data[\"Gender\"] == \"Male\"]['Price'].mean()\n",
    "ave_price_female = purchase_data[purchase_data[\"Gender\"] == \"Female\"]['Price'].mean()\n",
    "ave_price_other = purchase_data[purchase_data[\"Gender\"] == \"Non-disclosed\"]['Price'].mean()\n",
    "\n",
    "tot_price_male = purchase_data[purchase_data [\"Gender\"] == \"Male\"]['Price'].sum()\n",
    "tot_price_female = purchase_data[purchase_data[\"Gender\"] == \"Female\"]['Price'].sum()\n",
    "tot_price_other = purchase_data[purchase_data[\"Gender\"] == \"Non-disclosed\"]['Price'].sum()\n",
    "\n",
    "male_norm = tot_price_male/malecount\n",
    "female_norm = tot_price_female/femalecount\n",
    "other_norm = tot_price_other/non_disclosed\n",
    "\n",
    "gender_purchase_df = pd.DataFrame({\"Gender\": [\"Male\", \"Female\", \"Non-Disclosed\"], \n",
    "                                   \"Purchase Count\": [male_purchase, female_purchase, other_purchase],\n",
    "                                    \"Average Purchase Price\": [ave_price_male,ave_price_female,ave_price_other], \n",
    "                                    \"Total Purchase Value\": [tot_price_male, tot_price_female, tot_price_other],\n",
    "                                    \"Normalized Totals\": [male_norm, female_norm, other_norm]}, \n",
    "                                  columns = \n",
    "                [\"Gender\", \"Purchase Count\", \"Average Purchase Price\", \"Total Purchase Value\", \"Normalized Totals\"])\n",
    "                                        \n",
    "gender_purchase = gender_purchase_df.set_index(\"Gender\")\n",
    "gender_purchase.style.format({\"Average Purchase Price\": \"${:.2f}\", \n",
    "                              \"Total Purchase Value\": \"${:.2f}\", \"Normalized Totals\": \"${:.2f}\"})"
   ]
  },
  {
   "cell_type": "code",
   "execution_count": null,
   "metadata": {
    "collapsed": true
   },
   "outputs": [],
   "source": [
    "# Age Demographics\n",
    "#Creating bins\n",
    "\n",
    "bins = [ < 10, 10-14,15-19,20-24,25-29,30-34,35-39, > 40]\n",
    "\n",
    " \n",
    "  * Purchase Count\n",
    "  * Average Purchase Price\n",
    "  * Total Purchase Value\n",
    "  * Normalized Totals"
   ]
  }
 ],
 "metadata": {
  "kernelspec": {
   "display_name": "Python [conda env:anaconda3]",
   "language": "python",
   "name": "conda-env-anaconda3-py"
  },
  "language_info": {
   "codemirror_mode": {
    "name": "ipython",
    "version": 3
   },
   "file_extension": ".py",
   "mimetype": "text/x-python",
   "name": "python",
   "nbconvert_exporter": "python",
   "pygments_lexer": "ipython3",
   "version": "3.6.3"
  }
 },
 "nbformat": 4,
 "nbformat_minor": 2
}
